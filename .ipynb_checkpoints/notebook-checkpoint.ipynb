{
 "cells": [
  {
   "cell_type": "code",
   "execution_count": null,
   "metadata": {
    "colab": {
     "base_uri": "https://localhost:8080/",
     "height": 368
    },
    "id": "O-c72vnpk_xM",
    "outputId": "8969f777-b745-4d50-936e-52bd4a87e54d"
   },
   "outputs": [],
   "source": [
    "from fastbook import *\n",
    "from fastai.vision.widgets import *"
   ]
  },
  {
   "cell_type": "markdown",
   "metadata": {},
   "source": [
    "# Deep Learning Animal Identifier"
   ]
  },
  {
   "cell_type": "markdown",
   "metadata": {},
   "source": [
    "Upload a photo of a an animal:\n",
    "**dog**, **llama**, **raccoon**\n",
    "\n",
    "Then, the model will predict which animal is in the image.\n",
    "\n",
    "The model was trained on photos of dogs, llamas, and raccoons from Bing Image Search (so it not supposed to work with any other types of animals)\n",
    "This model was trained using the FastAI library, and is only meant for learning purposes.\n",
    "\n",
    "----"
   ]
  },
  {
   "cell_type": "code",
   "execution_count": null,
   "metadata": {},
   "outputs": [],
   "source": [
    "path = Path()\n",
    "inference = load_learner(path/\"model.pkl\")\n",
    "upload_btn = widgets.FileUpload()\n",
    "out_pl = widgets.Output()\n",
    "run_btn = widgets.Button(description=\"Classify\")\n",
    "lbl_pred = widgets.Label()"
   ]
  },
  {
   "cell_type": "code",
   "execution_count": null,
   "metadata": {},
   "outputs": [],
   "source": [
    "def on_click_classify(change):\n",
    "    img = PILImage.create(upload_btn.data[-1])\n",
    "    out_pl.clear_output()\n",
    "    with out_pl: display(img.to_thumb(128,128))\n",
    "    pred,pred_idx,probs = inference.predict(img)\n",
    "    lbl_pred.value = f'Prediction: {pred}; Probability: {probs[pred_idx]:.04f}'\n",
    "\n",
    "run_btn.on_click(on_click_classify)"
   ]
  },
  {
   "cell_type": "code",
   "execution_count": null,
   "metadata": {},
   "outputs": [],
   "source": [
    "VBox([widgets.Label(\"Upload your image\"), upload_btn, run_btn, out_pl, lbl_pred])"
   ]
  }
 ],
 "metadata": {
  "colab": {
   "name": "Raccoon, Llama, Dog Web App.ipynb",
   "provenance": []
  },
  "kernelspec": {
   "display_name": "Python 3",
   "language": "python",
   "name": "python3"
  },
  "language_info": {
   "codemirror_mode": {
    "name": "ipython",
    "version": 3
   },
   "file_extension": ".py",
   "mimetype": "text/x-python",
   "name": "python",
   "nbconvert_exporter": "python",
   "pygments_lexer": "ipython3",
   "version": "3.8.3"
  }
 },
 "nbformat": 4,
 "nbformat_minor": 4
}
